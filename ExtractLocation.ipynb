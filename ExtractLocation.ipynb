{
  "nbformat": 4,
  "nbformat_minor": 0,
  "metadata": {
    "colab": {
      "name": "ExtractLocation.ipynb",
      "provenance": [],
      "collapsed_sections": [],
      "include_colab_link": true
    },
    "kernelspec": {
      "name": "python3",
      "display_name": "Python 3"
    }
  },
  "cells": [
    {
      "cell_type": "markdown",
      "metadata": {
        "id": "view-in-github",
        "colab_type": "text"
      },
      "source": [
        
      ]
    },
    {
      "cell_type": "code",
      "metadata": {
        "id": "AHLkk9r7iiNs",
        "colab_type": "code",
        "colab": {}
      },
      "source": [
        "import nltk\n",
        "from nltk.tokenize import word_tokenize\n",
        "from nltk.tag import pos_tag\n",
        "from nltk.chunk import ne_chunk"
      ],
      "execution_count": 0,
      "outputs": []
    },
    {
      "cell_type": "code",
      "metadata": {
        "id": "IUpabABSDwLi",
        "colab_type": "code",
        "outputId": "7b578310-48a3-4f42-d93d-c9c6f0ed331d",
        "colab": {
          "base_uri": "https://localhost:8080/",
          "height": 208
        }
      },
      "source": [
        "nltk.download('punkt')\n",
        "nltk.download('averaged_perceptron_tagger')\n",
        "nltk.download('maxent_ne_chunker')\n",
        "nltk.download('words')"
      ],
      "execution_count": 3,
      "outputs": [
        {
          "output_type": "stream",
          "text": [
            "[nltk_data] Downloading package punkt to /root/nltk_data...\n",
            "[nltk_data]   Unzipping tokenizers/punkt.zip.\n",
            "[nltk_data] Downloading package averaged_perceptron_tagger to\n",
            "[nltk_data]     /root/nltk_data...\n",
            "[nltk_data]   Unzipping taggers/averaged_perceptron_tagger.zip.\n",
            "[nltk_data] Downloading package maxent_ne_chunker to\n",
            "[nltk_data]     /root/nltk_data...\n",
            "[nltk_data]   Unzipping chunkers/maxent_ne_chunker.zip.\n",
            "[nltk_data] Downloading package words to /root/nltk_data...\n",
            "[nltk_data]   Unzipping corpora/words.zip.\n"
          ],
          "name": "stdout"
        },
        {
          "output_type": "execute_result",
          "data": {
            "text/plain": [
              "True"
            ]
          },
          "metadata": {
            "tags": []
          },
          "execution_count": 3
        }
      ]
    },
    {
      "cell_type": "code",
      "metadata": {
        "id": "ukXb4tGnAttl",
        "colab_type": "code",
        "outputId": "b5a81ea8-c1d7-401c-ec58-3c837ea2d235",
        "colab": {
          "base_uri": "https://localhost:8080/",
          "height": 193
        }
      },
      "source": [
        "doc = \"\"\"According to a media report, Mumbai has the highest density of cars in India. Pune is in second place. \n",
        "\n",
        "The density of private cars in Mumbai has gone up by 18% in 2 years. There are 510 cars per km of road as opposed to 430 cars per km in 2016. This is almost five times that of Delhi (108 cars per km). Despite having fewer cars than Delhi, Mumbai is more congested due to low road space. Mumbai has 2,000 km of roads compared to the national capital, which has 28,000 km of roadways.\n",
        "\n",
        "There are 10.2 lakh private cars in Mumbai. That is 28% of the total number of vehicles in the city, which stands at 36 lakh. According to RTO officials, the western suburbs have the highest number of registered cars (5 lakh). There are 3.3 lakh private cars in the island city and 1.7 lakh in the eastern suburbs.\n",
        "\n",
        "Pune has 359 cars per km and Kolkata is the third most congested city with 319 cars per km. Chennai comes in fourth with 297 cars per km followed by Bangalore with 149 cars per km.\"\"\"\n",
        "wd = word_tokenize(doc)\n",
        "pt = pos_tag(wd)\n",
        "print(wd)\n",
        "print(pt)\n",
        "print(doc)"
      ],
      "execution_count": 4,
      "outputs": [
        {
          "output_type": "stream",
          "text": [
            "['According', 'to', 'a', 'media', 'report', ',', 'Mumbai', 'has', 'the', 'highest', 'density', 'of', 'cars', 'in', 'India', '.', 'Pune', 'is', 'in', 'second', 'place', '.', 'The', 'density', 'of', 'private', 'cars', 'in', 'Mumbai', 'has', 'gone', 'up', 'by', '18', '%', 'in', '2', 'years', '.', 'There', 'are', '510', 'cars', 'per', 'km', 'of', 'road', 'as', 'opposed', 'to', '430', 'cars', 'per', 'km', 'in', '2016', '.', 'This', 'is', 'almost', 'five', 'times', 'that', 'of', 'Delhi', '(', '108', 'cars', 'per', 'km', ')', '.', 'Despite', 'having', 'fewer', 'cars', 'than', 'Delhi', ',', 'Mumbai', 'is', 'more', 'congested', 'due', 'to', 'low', 'road', 'space', '.', 'Mumbai', 'has', '2,000', 'km', 'of', 'roads', 'compared', 'to', 'the', 'national', 'capital', ',', 'which', 'has', '28,000', 'km', 'of', 'roadways', '.', 'There', 'are', '10.2', 'lakh', 'private', 'cars', 'in', 'Mumbai', '.', 'That', 'is', '28', '%', 'of', 'the', 'total', 'number', 'of', 'vehicles', 'in', 'the', 'city', ',', 'which', 'stands', 'at', '36', 'lakh', '.', 'According', 'to', 'RTO', 'officials', ',', 'the', 'western', 'suburbs', 'have', 'the', 'highest', 'number', 'of', 'registered', 'cars', '(', '5', 'lakh', ')', '.', 'There', 'are', '3.3', 'lakh', 'private', 'cars', 'in', 'the', 'island', 'city', 'and', '1.7', 'lakh', 'in', 'the', 'eastern', 'suburbs', '.', 'Pune', 'has', '359', 'cars', 'per', 'km', 'and', 'Kolkata', 'is', 'the', 'third', 'most', 'congested', 'city', 'with', '319', 'cars', 'per', 'km', '.', 'Chennai', 'comes', 'in', 'fourth', 'with', '297', 'cars', 'per', 'km', 'followed', 'by', 'Bangalore', 'with', '149', 'cars', 'per', 'km', '.']\n",
            "[('According', 'VBG'), ('to', 'TO'), ('a', 'DT'), ('media', 'NNS'), ('report', 'NN'), (',', ','), ('Mumbai', 'NNP'), ('has', 'VBZ'), ('the', 'DT'), ('highest', 'JJS'), ('density', 'NN'), ('of', 'IN'), ('cars', 'NNS'), ('in', 'IN'), ('India', 'NNP'), ('.', '.'), ('Pune', 'NNP'), ('is', 'VBZ'), ('in', 'IN'), ('second', 'JJ'), ('place', 'NN'), ('.', '.'), ('The', 'DT'), ('density', 'NN'), ('of', 'IN'), ('private', 'JJ'), ('cars', 'NNS'), ('in', 'IN'), ('Mumbai', 'NNP'), ('has', 'VBZ'), ('gone', 'VBN'), ('up', 'RP'), ('by', 'IN'), ('18', 'CD'), ('%', 'NN'), ('in', 'IN'), ('2', 'CD'), ('years', 'NNS'), ('.', '.'), ('There', 'EX'), ('are', 'VBP'), ('510', 'CD'), ('cars', 'NNS'), ('per', 'IN'), ('km', 'NN'), ('of', 'IN'), ('road', 'NN'), ('as', 'IN'), ('opposed', 'VBN'), ('to', 'TO'), ('430', 'CD'), ('cars', 'NNS'), ('per', 'IN'), ('km', 'NN'), ('in', 'IN'), ('2016', 'CD'), ('.', '.'), ('This', 'DT'), ('is', 'VBZ'), ('almost', 'RB'), ('five', 'CD'), ('times', 'NNS'), ('that', 'IN'), ('of', 'IN'), ('Delhi', 'NNP'), ('(', '('), ('108', 'CD'), ('cars', 'NNS'), ('per', 'IN'), ('km', 'NN'), (')', ')'), ('.', '.'), ('Despite', 'IN'), ('having', 'VBG'), ('fewer', 'JJR'), ('cars', 'NNS'), ('than', 'IN'), ('Delhi', 'NNP'), (',', ','), ('Mumbai', 'NNP'), ('is', 'VBZ'), ('more', 'RBR'), ('congested', 'JJ'), ('due', 'JJ'), ('to', 'TO'), ('low', 'JJ'), ('road', 'NN'), ('space', 'NN'), ('.', '.'), ('Mumbai', 'NNP'), ('has', 'VBZ'), ('2,000', 'CD'), ('km', 'NN'), ('of', 'IN'), ('roads', 'NNS'), ('compared', 'VBN'), ('to', 'TO'), ('the', 'DT'), ('national', 'JJ'), ('capital', 'NN'), (',', ','), ('which', 'WDT'), ('has', 'VBZ'), ('28,000', 'CD'), ('km', 'NN'), ('of', 'IN'), ('roadways', 'NNS'), ('.', '.'), ('There', 'EX'), ('are', 'VBP'), ('10.2', 'CD'), ('lakh', 'JJ'), ('private', 'JJ'), ('cars', 'NNS'), ('in', 'IN'), ('Mumbai', 'NNP'), ('.', '.'), ('That', 'DT'), ('is', 'VBZ'), ('28', 'CD'), ('%', 'NN'), ('of', 'IN'), ('the', 'DT'), ('total', 'JJ'), ('number', 'NN'), ('of', 'IN'), ('vehicles', 'NNS'), ('in', 'IN'), ('the', 'DT'), ('city', 'NN'), (',', ','), ('which', 'WDT'), ('stands', 'VBZ'), ('at', 'IN'), ('36', 'CD'), ('lakh', 'NN'), ('.', '.'), ('According', 'VBG'), ('to', 'TO'), ('RTO', 'NNP'), ('officials', 'NNS'), (',', ','), ('the', 'DT'), ('western', 'JJ'), ('suburbs', 'NNS'), ('have', 'VBP'), ('the', 'DT'), ('highest', 'JJS'), ('number', 'NN'), ('of', 'IN'), ('registered', 'JJ'), ('cars', 'NNS'), ('(', '('), ('5', 'CD'), ('lakh', 'NN'), (')', ')'), ('.', '.'), ('There', 'EX'), ('are', 'VBP'), ('3.3', 'CD'), ('lakh', 'JJ'), ('private', 'JJ'), ('cars', 'NNS'), ('in', 'IN'), ('the', 'DT'), ('island', 'NN'), ('city', 'NN'), ('and', 'CC'), ('1.7', 'CD'), ('lakh', 'NN'), ('in', 'IN'), ('the', 'DT'), ('eastern', 'JJ'), ('suburbs', 'NN'), ('.', '.'), ('Pune', 'NNP'), ('has', 'VBZ'), ('359', 'CD'), ('cars', 'NNS'), ('per', 'IN'), ('km', 'NN'), ('and', 'CC'), ('Kolkata', 'NNP'), ('is', 'VBZ'), ('the', 'DT'), ('third', 'JJ'), ('most', 'RBS'), ('congested', 'JJ'), ('city', 'NN'), ('with', 'IN'), ('319', 'CD'), ('cars', 'NNS'), ('per', 'IN'), ('km', 'NN'), ('.', '.'), ('Chennai', 'NNP'), ('comes', 'VBZ'), ('in', 'IN'), ('fourth', 'JJ'), ('with', 'IN'), ('297', 'CD'), ('cars', 'NNS'), ('per', 'IN'), ('km', 'NN'), ('followed', 'VBN'), ('by', 'IN'), ('Bangalore', 'NNP'), ('with', 'IN'), ('149', 'CD'), ('cars', 'NNS'), ('per', 'IN'), ('km', 'NN'), ('.', '.')]\n",
            "According to a media report, Mumbai has the highest density of cars in India. Pune is in second place. \n",
            "\n",
            "The density of private cars in Mumbai has gone up by 18% in 2 years. There are 510 cars per km of road as opposed to 430 cars per km in 2016. This is almost five times that of Delhi (108 cars per km). Despite having fewer cars than Delhi, Mumbai is more congested due to low road space. Mumbai has 2,000 km of roads compared to the national capital, which has 28,000 km of roadways.\n",
            "\n",
            "There are 10.2 lakh private cars in Mumbai. That is 28% of the total number of vehicles in the city, which stands at 36 lakh. According to RTO officials, the western suburbs have the highest number of registered cars (5 lakh). There are 3.3 lakh private cars in the island city and 1.7 lakh in the eastern suburbs.\n",
            "\n",
            "Pune has 359 cars per km and Kolkata is the third most congested city with 319 cars per km. Chennai comes in fourth with 297 cars per km followed by Bangalore with 149 cars per km.\n"
          ],
          "name": "stdout"
        }
      ]
    },
    {
      "cell_type": "code",
      "metadata": {
        "id": "CgruaaxHBc6Z",
        "colab_type": "code",
        "outputId": "4d165a26-ac12-41e1-84dd-9298e2bd3ab0",
        "colab": {
          "base_uri": "https://localhost:8080/",
          "height": 156
        }
      },
      "source": [
        "loc=[]\n",
        "nn = ne_chunk(pt)\n",
        "for x in str(nn).split('\\n'):\n",
        "  if 'PERSON' in x:\n",
        "    loc.append(x.split()[1].split(\"/\")[0])\n",
        "    print(x)\n",
        "loc=set(loc)\n",
        "print(loc)"
      ],
      "execution_count": 6,
      "outputs": [
        {
          "output_type": "stream",
          "text": [
            "  (PERSON Mumbai/NNP)\n",
            "  (PERSON Delhi/NNP)\n",
            "  (PERSON Mumbai/NNP)\n",
            "  (PERSON Mumbai/NNP)\n",
            "  (PERSON Pune/NNP)\n",
            "  (PERSON Kolkata/NNP)\n",
            "  (PERSON Chennai/NNP)\n",
            "{'Mumbai', 'Chennai', 'Pune', 'Delhi', 'Kolkata'}\n"
          ],
          "name": "stdout"
        }
      ]
    },
    {
      "cell_type": "code",
      "metadata": {
        "id": "DPbew_E4kVEA",
        "colab_type": "code",
        "colab": {
          "base_uri": "https://localhost:8080/",
          "height": 121
        },
        "outputId": "c9e80174-44ed-4464-b951-8c9a00380fc9"
      },
      "source": [
        "print(\"Extract Locations are:\")\n",
        "for i in loc:\n",
        "    print(i)"
      ],
      "execution_count": 7,
      "outputs": [
        {
          "output_type": "stream",
          "text": [
            "Extract Locations are:\n",
            "Mumbai\n",
            "Chennai\n",
            "Pune\n",
            "Delhi\n",
            "Kolkata\n"
          ],
          "name": "stdout"
        }
      ]
    }
  ]
}
